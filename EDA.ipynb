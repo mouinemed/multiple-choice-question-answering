{
 "cells": [
  {
   "cell_type": "code",
   "execution_count": 11,
   "metadata": {},
   "outputs": [],
   "source": [
    "import pandas as pd\n",
    "import matplotlib.pyplot as plt"
   ]
  },
  {
   "cell_type": "markdown",
   "metadata": {},
   "source": [
    "#### Load the Data and Overview"
   ]
  },
  {
   "cell_type": "code",
   "execution_count": 4,
   "metadata": {},
   "outputs": [],
   "source": [
    "df=pd.read_csv('multiple_choice/train.csv')"
   ]
  },
  {
   "cell_type": "code",
   "execution_count": 5,
   "metadata": {},
   "outputs": [
    {
     "data": {
      "text/html": [
       "<div>\n",
       "<style scoped>\n",
       "    .dataframe tbody tr th:only-of-type {\n",
       "        vertical-align: middle;\n",
       "    }\n",
       "\n",
       "    .dataframe tbody tr th {\n",
       "        vertical-align: top;\n",
       "    }\n",
       "\n",
       "    .dataframe thead th {\n",
       "        text-align: right;\n",
       "    }\n",
       "</style>\n",
       "<table border=\"1\" class=\"dataframe\">\n",
       "  <thead>\n",
       "    <tr style=\"text-align: right;\">\n",
       "      <th></th>\n",
       "      <th>idx</th>\n",
       "      <th>text</th>\n",
       "      <th>choice1</th>\n",
       "      <th>choice2</th>\n",
       "      <th>choice3</th>\n",
       "      <th>choice4</th>\n",
       "      <th>choice5</th>\n",
       "      <th>choice6</th>\n",
       "      <th>label</th>\n",
       "    </tr>\n",
       "  </thead>\n",
       "  <tbody>\n",
       "    <tr>\n",
       "      <th>0</th>\n",
       "      <td>0</td>\n",
       "      <td>The Rhodesian Bush War was the result , begin...</td>\n",
       "      <td>fought</td>\n",
       "      <td>contended</td>\n",
       "      <td>defended</td>\n",
       "      <td>opposed</td>\n",
       "      <td>NaN</td>\n",
       "      <td>NaN</td>\n",
       "      <td>choice1</td>\n",
       "    </tr>\n",
       "    <tr>\n",
       "      <th>1</th>\n",
       "      <td>1</td>\n",
       "      <td>&lt;ArrayOfQuery xmlns: xsi=\"http://www.w3.org/20...</td>\n",
       "      <td>instance</td>\n",
       "      <td>case</td>\n",
       "      <td>illustration</td>\n",
       "      <td>example</td>\n",
       "      <td>NaN</td>\n",
       "      <td>NaN</td>\n",
       "      <td>choice1</td>\n",
       "    </tr>\n",
       "    <tr>\n",
       "      <th>2</th>\n",
       "      <td>2</td>\n",
       "      <td>&lt;! -- Beginning of the Coveo Searchbox [BLANK]...</td>\n",
       "      <td>segment</td>\n",
       "      <td>incision</td>\n",
       "      <td>section</td>\n",
       "      <td>subdivision</td>\n",
       "      <td>NaN</td>\n",
       "      <td>NaN</td>\n",
       "      <td>choice3</td>\n",
       "    </tr>\n",
       "    <tr>\n",
       "      <th>3</th>\n",
       "      <td>3</td>\n",
       "      <td>&lt;div class=\"CoveoFacet\" data-title=\"Salesforce...</td>\n",
       "      <td>Level</td>\n",
       "      <td>Leg</td>\n",
       "      <td>Degree</td>\n",
       "      <td>Stage</td>\n",
       "      <td>NaN</td>\n",
       "      <td>NaN</td>\n",
       "      <td>choice4</td>\n",
       "    </tr>\n",
       "    <tr>\n",
       "      <th>4</th>\n",
       "      <td>4</td>\n",
       "      <td>The Sitecore Security Provider ABC has encount...</td>\n",
       "      <td>year</td>\n",
       "      <td>course</td>\n",
       "      <td>class</td>\n",
       "      <td>family</td>\n",
       "      <td>NaN</td>\n",
       "      <td>NaN</td>\n",
       "      <td>choice3</td>\n",
       "    </tr>\n",
       "    <tr>\n",
       "      <th>...</th>\n",
       "      <td>...</td>\n",
       "      <td>...</td>\n",
       "      <td>...</td>\n",
       "      <td>...</td>\n",
       "      <td>...</td>\n",
       "      <td>...</td>\n",
       "      <td>...</td>\n",
       "      <td>...</td>\n",
       "      <td>...</td>\n",
       "    </tr>\n",
       "    <tr>\n",
       "      <th>115522</th>\n",
       "      <td>115522</td>\n",
       "      <td>Unzip the procdump.exe from the zip file and p...</td>\n",
       "      <td>Change</td>\n",
       "      <td>Transformation</td>\n",
       "      <td>Shift</td>\n",
       "      <td>Fault</td>\n",
       "      <td>NaN</td>\n",
       "      <td>NaN</td>\n",
       "      <td>choice3</td>\n",
       "    </tr>\n",
       "    <tr>\n",
       "      <th>115523</th>\n",
       "      <td>115523</td>\n",
       "      <td>-\\nDocument URL\\n When available, the URL of t...</td>\n",
       "      <td>capacity</td>\n",
       "      <td>substance</td>\n",
       "      <td>message</td>\n",
       "      <td>content</td>\n",
       "      <td>NaN</td>\n",
       "      <td>NaN</td>\n",
       "      <td>choice4</td>\n",
       "    </tr>\n",
       "    <tr>\n",
       "      <th>115524</th>\n",
       "      <td>115524</td>\n",
       "      <td>1.\\n In the upper-right [BLANK], click UI View...</td>\n",
       "      <td>recess</td>\n",
       "      <td>recession</td>\n",
       "      <td>corner</td>\n",
       "      <td>tree</td>\n",
       "      <td>NaN</td>\n",
       "      <td>NaN</td>\n",
       "      <td>choice3</td>\n",
       "    </tr>\n",
       "    <tr>\n",
       "      <th>115525</th>\n",
       "      <td>115525</td>\n",
       "      <td>Configuring a Microsoft Exchange Security Prov...</td>\n",
       "      <td>Style</td>\n",
       "      <td>Championship</td>\n",
       "      <td>Title</td>\n",
       "      <td>Claim</td>\n",
       "      <td>NaN</td>\n",
       "      <td>NaN</td>\n",
       "      <td>choice3</td>\n",
       "    </tr>\n",
       "    <tr>\n",
       "      <th>115526</th>\n",
       "      <td>115526</td>\n",
       "      <td>The markup of the default Insight Panel looks ...</td>\n",
       "      <td>descending</td>\n",
       "      <td>settling</td>\n",
       "      <td>falling</td>\n",
       "      <td>condescending</td>\n",
       "      <td>NaN</td>\n",
       "      <td>NaN</td>\n",
       "      <td>choice1</td>\n",
       "    </tr>\n",
       "  </tbody>\n",
       "</table>\n",
       "<p>115527 rows × 9 columns</p>\n",
       "</div>"
      ],
      "text/plain": [
       "           idx                                               text     choice1   \n",
       "0            0   The Rhodesian Bush War was the result , begin...      fought  \\\n",
       "1            1  <ArrayOfQuery xmlns: xsi=\"http://www.w3.org/20...    instance   \n",
       "2            2  <! -- Beginning of the Coveo Searchbox [BLANK]...     segment   \n",
       "3            3  <div class=\"CoveoFacet\" data-title=\"Salesforce...       Level   \n",
       "4            4  The Sitecore Security Provider ABC has encount...        year   \n",
       "...        ...                                                ...         ...   \n",
       "115522  115522  Unzip the procdump.exe from the zip file and p...      Change   \n",
       "115523  115523  -\\nDocument URL\\n When available, the URL of t...    capacity   \n",
       "115524  115524  1.\\n In the upper-right [BLANK], click UI View...      recess   \n",
       "115525  115525  Configuring a Microsoft Exchange Security Prov...       Style   \n",
       "115526  115526  The markup of the default Insight Panel looks ...  descending   \n",
       "\n",
       "               choice2       choice3        choice4 choice5 choice6    label  \n",
       "0            contended      defended        opposed     NaN     NaN  choice1  \n",
       "1                 case  illustration        example     NaN     NaN  choice1  \n",
       "2             incision       section    subdivision     NaN     NaN  choice3  \n",
       "3                  Leg        Degree          Stage     NaN     NaN  choice4  \n",
       "4               course         class         family     NaN     NaN  choice3  \n",
       "...                ...           ...            ...     ...     ...      ...  \n",
       "115522  Transformation         Shift          Fault     NaN     NaN  choice3  \n",
       "115523       substance       message        content     NaN     NaN  choice4  \n",
       "115524       recession        corner           tree     NaN     NaN  choice3  \n",
       "115525    Championship         Title          Claim     NaN     NaN  choice3  \n",
       "115526        settling       falling  condescending     NaN     NaN  choice1  \n",
       "\n",
       "[115527 rows x 9 columns]"
      ]
     },
     "metadata": {},
     "output_type": "display_data"
    }
   ],
   "source": [
    "display(df)"
   ]
  },
  {
   "cell_type": "markdown",
   "metadata": {},
   "source": [
    "### Check Data Types and Missing Values:"
   ]
  },
  {
   "cell_type": "code",
   "execution_count": 6,
   "metadata": {},
   "outputs": [
    {
     "name": "stdout",
     "output_type": "stream",
     "text": [
      "Data Types:\n",
      "idx         int64\n",
      "text       object\n",
      "choice1    object\n",
      "choice2    object\n",
      "choice3    object\n",
      "choice4    object\n",
      "choice5    object\n",
      "choice6    object\n",
      "label      object\n",
      "dtype: object\n",
      "\n",
      "Missing Values:\n",
      "idx             0\n",
      "text            0\n",
      "choice1         0\n",
      "choice2         0\n",
      "choice3         0\n",
      "choice4         0\n",
      "choice5    111553\n",
      "choice6    114463\n",
      "label           0\n",
      "dtype: int64\n",
      "\n",
      "Missing Values after Imputation:\n",
      "idx             0\n",
      "text            0\n",
      "choice1         0\n",
      "choice2         0\n",
      "choice3         0\n",
      "choice4         0\n",
      "choice5    111553\n",
      "choice6    114463\n",
      "label           0\n",
      "dtype: int64\n"
     ]
    }
   ],
   "source": [
    "# 1. Examine Data Types\n",
    "print(\"Data Types:\")\n",
    "print(df.dtypes)\n",
    "print()\n",
    "\n",
    "# 2. Check for Missing Values\n",
    "print(\"Missing Values:\")\n",
    "print(df.isnull().sum())\n",
    "print()\n",
    "\n",
    "# Handling Missing Values (Example: Imputation)\n",
    "\n",
    "# Count the most frequent choice for each row\n",
    "most_frequent_choice = df[['choice1', 'choice2', 'choice3', 'choice4', 'choice5', 'choice6']].mode(axis=1, dropna=True)\n",
    "\n",
    "# Update missing values with the most frequent choice for each row\n",
    "df[['choice1', 'choice2', 'choice3', 'choice4', 'choice5', 'choice6']] = df[['choice1', 'choice2', 'choice3', 'choice4', 'choice5', 'choice6']].fillna(most_frequent_choice[0], axis=0)\n",
    "\n",
    "# Verify if missing values have been imputed\n",
    "print(\"Missing Values after Imputation:\")\n",
    "print(df.isnull().sum())"
   ]
  },
  {
   "cell_type": "markdown",
   "metadata": {},
   "source": [
    "df"
   ]
  },
  {
   "cell_type": "markdown",
   "metadata": {},
   "source": [
    "### Statistical Summary"
   ]
  },
  {
   "cell_type": "code",
   "execution_count": 9,
   "metadata": {},
   "outputs": [
    {
     "name": "stdout",
     "output_type": "stream",
     "text": [
      "Statistical Summary for Numerical Columns:\n",
      "       choice1 choice2   choice3 choice4 choice5 choice6\n",
      "count   115527  115527    115527  115527    3974    1064\n",
      "unique    9288    9248      8954    9160    1783     718\n",
      "top      issue   issue  Question   issue    part   issue\n",
      "freq       634     621      1078     591      34      13\n",
      "____________________\n",
      "Summary Statistics for Labels (Class Distribution):\n",
      "Class Counts:\n",
      "label\n",
      "choice3    57657\n",
      "choice1    25441\n",
      "choice2    19334\n",
      "choice4    12871\n",
      "choice5      159\n",
      "choice6       65\n",
      "Name: count, dtype: int64\n",
      "____________________\n",
      "Class Percentages:\n",
      "label\n",
      "choice3    0.499078\n",
      "choice1    0.220217\n",
      "choice2    0.167355\n",
      "choice4    0.111411\n",
      "choice5    0.001376\n",
      "choice6    0.000563\n",
      "Name: proportion, dtype: float64\n"
     ]
    }
   ],
   "source": [
    "# 1. Statistical Summary for choice Columns\n",
    "numeric_columns = df[['choice1', 'choice2', 'choice3', 'choice4', 'choice5', 'choice6']]\n",
    "print(\"Statistical Summary for Numerical Columns:\")\n",
    "print(numeric_columns.describe())\n",
    "print('_'*20)\n",
    "\n",
    "# 2. Summary Statistics for Labels (Class Distribution)\n",
    "label_counts = df['label'].value_counts()\n",
    "label_percentages = df['label'].value_counts(normalize=True)\n",
    "\n",
    "print(\"Summary Statistics for Labels (Class Distribution):\")\n",
    "print(\"Class Counts:\")\n",
    "print(label_counts)\n",
    "print('_'*20)\n",
    "\n",
    "print(\"Class Percentages:\")\n",
    "print(label_percentages)\n"
   ]
  },
  {
   "cell_type": "markdown",
   "metadata": {},
   "source": [
    "### Distribution of Labels"
   ]
  },
  {
   "cell_type": "code",
   "execution_count": 12,
   "metadata": {},
   "outputs": [
    {
     "data": {
      "image/png": "[encoded data removed]",
      "text/plain": [
       "<Figure size 576x432 with 1 Axes>"
      ]
     },
     "metadata": {
      "needs_background": "light"
     },
     "output_type": "display_data"
    },
    {
     "name": "stdout",
     "output_type": "stream",
     "text": [
      "Class Percentages:\n",
      "label\n",
      "choice3    0.499078\n",
      "choice1    0.220217\n",
      "choice2    0.167355\n",
      "choice4    0.111411\n",
      "choice5    0.001376\n",
      "choice6    0.000563\n",
      "Name: proportion, dtype: float64\n"
     ]
    }
   ],
   "source": [
    "# 1. Plot the Distribution of Labels\n",
    "plt.figure(figsize=(8, 6))\n",
    "label_counts = df['label'].value_counts()\n",
    "plt.bar(label_counts.index, label_counts.values)\n",
    "plt.xlabel('Label')\n",
    "plt.ylabel('Count')\n",
    "plt.title('Distribution of Labels')\n",
    "plt.xticks(rotation=45)\n",
    "plt.show()\n",
    "\n",
    "\n",
    "label_percentages = df['label'].value_counts(normalize=True)\n",
    "print(\"Class Percentages:\")\n",
    "print(label_percentages)\n"
   ]
  },
  {
   "cell_type": "markdown",
   "metadata": {},
   "source": [
    "### Word/Token Frequency"
   ]
  },
  {
   "cell_type": "code",
   "execution_count": 14,
   "metadata": {},
   "outputs": [
    {
     "name": "stderr",
     "output_type": "stream",
     "text": [
      "[nltk_data] Downloading package punkt to\n",
      "[nltk_data]     /Users/mohamedmouine/nltk_data...\n",
      "[nltk_data]   Package punkt is already up-to-date!\n"
     ]
    },
    {
     "data": {
      "image/png": "[encoded data removed]",
      "text/plain": [
       "<Figure size 720x432 with 1 Axes>"
      ]
     },
     "metadata": {
      "needs_background": "light"
     },
     "output_type": "display_data"
    }
   ],
   "source": [
    "import nltk\n",
    "from nltk import word_tokenize\n",
    "from nltk.probability import FreqDist\n",
    "nltk.download('punkt')  # Download the punkt tokenizer data (if not already downloaded)\n",
    "\n",
    "\n",
    "\n",
    "# Tokenize the text column\n",
    "df['tokens'] = df['text'].apply(word_tokenize)\n",
    "\n",
    "# Flatten the list of tokens into a single list\n",
    "all_tokens = [token for sublist in df['tokens'] for token in sublist]\n",
    "\n",
    "# Create a frequency distribution of tokens\n",
    "fdist = FreqDist(all_tokens)\n",
    "\n",
    "# 1. Plot the Most Common Words/Tokens\n",
    "num_most_common = 20  # Number of most common tokens to display in the plot\n",
    "most_common_tokens = fdist.most_common(num_most_common)\n",
    "most_common_words, word_counts = zip(*most_common_tokens)\n",
    "\n",
    "plt.figure(figsize=(10, 6))\n",
    "plt.bar(most_common_words, word_counts)\n",
    "plt.xlabel('Words/Tokens')\n",
    "plt.ylabel('Frequency')\n",
    "plt.title(f'Most Common {num_most_common} Words/Tokens')\n",
    "plt.xticks(rotation=45)\n",
    "plt.show()\n"
   ]
  },
  {
   "cell_type": "markdown",
   "metadata": {},
   "source": [
    "### Sentence Length Analysis"
   ]
  },
  {
   "cell_type": "code",
   "execution_count": 15,
   "metadata": {},
   "outputs": [
    {
     "name": "stdout",
     "output_type": "stream",
     "text": [
      "Sentence Length Analysis:\n",
      "Maximum Sentence Length (in words): 1168\n",
      "Minimum Sentence Length (in words): 3\n",
      "Maximum Sentence Length (in characters): 8424\n",
      "Minimum Sentence Length (in characters): 7\n"
     ]
    }
   ],
   "source": [
    "\n",
    "# Calculate the sentence length in words\n",
    "df['sentence_length_words'] = df['text'].apply(lambda x: len(nltk.word_tokenize(x)))\n",
    "\n",
    "# Calculate the sentence length in characters\n",
    "df['sentence_length_characters'] = df['text'].apply(lambda x: len(x))\n",
    "\n",
    "# Determine the maximum and minimum sentence lengths\n",
    "max_length_words = df['sentence_length_words'].max()\n",
    "min_length_words = df['sentence_length_words'].min()\n",
    "\n",
    "max_length_characters = df['sentence_length_characters'].max()\n",
    "min_length_characters = df['sentence_length_characters'].min()\n",
    "\n",
    "print(\"Sentence Length Analysis:\")\n",
    "print(f\"Maximum Sentence Length (in words): {max_length_words}\")\n",
    "print(f\"Minimum Sentence Length (in words): {min_length_words}\")\n",
    "print(f\"Maximum Sentence Length (in characters): {max_length_characters}\")\n",
    "print(f\"Minimum Sentence Length (in characters): {min_length_characters}\")\n"
   ]
  },
  {
   "cell_type": "markdown",
   "metadata": {},
   "source": [
    "### Language detection"
   ]
  },
  {
   "cell_type": "code",
   "execution_count": 20,
   "metadata": {},
   "outputs": [
    {
     "name": "stdout",
     "output_type": "stream",
     "text": [
      "                                                     text detected_language\n",
      "0        The Rhodesian Bush War was the result , begin...                en\n",
      "1       <ArrayOfQuery xmlns: xsi=\"http://www.w3.org/20...                ca\n",
      "2       <! -- Beginning of the Coveo Searchbox [BLANK]...                en\n",
      "3       <div class=\"CoveoFacet\" data-title=\"Salesforce...                en\n",
      "4       The Sitecore Security Provider ABC has encount...                en\n",
      "...                                                   ...               ...\n",
      "115522  Unzip the procdump.exe from the zip file and p...                en\n",
      "115523  -\\nDocument URL\\n When available, the URL of t...                en\n",
      "115524  1.\\n In the upper-right [BLANK], click UI View...                en\n",
      "115525  Configuring a Microsoft Exchange Security Prov...                en\n",
      "115526  The markup of the default Insight Panel looks ...                en\n",
      "\n",
      "[115527 rows x 2 columns]\n"
     ]
    }
   ],
   "source": [
    "from langdetect import detect\n",
    "\n",
    "\n",
    "# Function to perform language identification\n",
    "def detect_language(text):\n",
    "    try:\n",
    "        return detect(text)\n",
    "    except:\n",
    "        return 'unknown'\n",
    "\n",
    "# Apply language identification to the 'text' column\n",
    "df['detected_language'] = df['text'].apply(detect_language)\n",
    "\n",
    "print(df[['text', 'detected_language']])\n"
   ]
  },
  {
   "cell_type": "code",
   "execution_count": 22,
   "metadata": {},
   "outputs": [
    {
     "data": {
      "text/plain": [
       "array(['en', 'ca', 'fr', 'it', 'ro', 'lv', 'af', 'de', 'da', 'hr', 'nl',\n",
       "       'vi', 'es', 'et', 'no', 'hu', 'id', 'pt', 'sv', 'sq', 'so', 'tr',\n",
       "       'tl', 'cy', 'cs', 'fi', 'lt', 'pl'], dtype=object)"
      ]
     },
     "execution_count": 22,
     "metadata": {},
     "output_type": "execute_result"
    }
   ],
   "source": [
    "df['detected_language'].unique()\n"
   ]
  }
 ],
 "metadata": {
  "kernelspec": {
   "display_name": "Python 3",
   "language": "python",
   "name": "python3"
  },
  "language_info": {
   "codemirror_mode": {
    "name": "ipython",
    "version": 3
   },
   "file_extension": ".py",
   "mimetype": "text/x-python",
   "name": "python",
   "nbconvert_exporter": "python",
   "pygments_lexer": "ipython3",
   "version": "3.8.5"
  }
 },
 "nbformat": 4,
 "nbformat_minor": 4
}
