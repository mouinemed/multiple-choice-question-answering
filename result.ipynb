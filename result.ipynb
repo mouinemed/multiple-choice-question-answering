{
 "cells": [
  {
   "cell_type": "code",
   "execution_count": 5,
   "metadata": {},
   "outputs": [],
   "source": [
    "import pandas as pd\n",
    "import numpy as np\n",
    "from transformers import AutoTokenizer, BertForMultipleChoice\n",
    "import torch\n",
    "from tqdm import tqdm\n",
    "tqdm.pandas()"
   ]
  },
  {
   "cell_type": "code",
   "execution_count": 16,
   "metadata": {},
   "outputs": [],
   "source": [
    "# Load the finetuned model and tokenizer (from checkpoint with 88.38% accuracy on Coveo's Data)\n",
    "tokenizer = AutoTokenizer.from_pretrained(\"bert-base-uncased-finetuned-coveo/checkpoint-1198\",  use_fast=True)\n",
    "model = BertForMultipleChoice.from_pretrained(\"bert-base-uncased-finetuned-coveo/checkpoint-1198/\")"
   ]
  },
  {
   "cell_type": "code",
   "execution_count": 2,
   "metadata": {},
   "outputs": [],
   "source": [
    "df_test=pd.read_csv('multiple_choice/test.csv')"
   ]
  },
  {
   "cell_type": "code",
   "execution_count": 13,
   "metadata": {},
   "outputs": [],
   "source": [
    "# Function to preprocess choices and make predictions for each row\n",
    "def predict_choices(row):\n",
    "    text = row['text']\n",
    "    choices = [row[f'choice{i}'] for i in range(1, 7)]\n",
    "    non_nan_choices = [choice for choice in choices if pd.notna(choice)]\n",
    "    \n",
    "    # If all choices are NaN, set all probabilities to 0\n",
    "    if not non_nan_choices:\n",
    "        return [0.0] * 6\n",
    "    \n",
    "    labels = torch.tensor(0).unsqueeze(0)  # Assuming choice1 is the correct choice (you can adjust it accordingly)\n",
    "\n",
    "    encoding = tokenizer([text] * len(non_nan_choices), non_nan_choices, return_tensors=\"pt\",truncation=True, max_length=512, padding=True)\n",
    "    outputs = model(**{k: v.unsqueeze(0) for k, v in encoding.items()}, labels=labels)\n",
    "\n",
    "    logits = outputs.logits\n",
    "    probabilities = logits.softmax(dim=1)[0].tolist()\n",
    "    \n",
    "    # Fill in the probabilities for non-NaN choices\n",
    "    result_probabilities = []\n",
    "    for choice in choices:\n",
    "        if pd.notna(choice):\n",
    "            result_probabilities.append(probabilities.pop(0))\n",
    "        else:\n",
    "            result_probabilities.append(0.0)\n",
    "    \n",
    "    # If there are fewer than 6 non-NaN choices, fill the rest with 0 probabilities\n",
    "    result_probabilities += [0.0] * (6 - len(result_probabilities))\n",
    "    \n",
    "    return result_probabilities"
   ]
  },
  {
   "cell_type": "code",
   "execution_count": null,
   "metadata": {},
   "outputs": [
    {
     "name": "stderr",
     "output_type": "stream",
     "text": [
      " 36%|███▋      | 5353/14729 [3:47:34<3:53:05,  1.49s/it] "
     ]
    }
   ],
   "source": [
    "# Sample DataFrame for demonstration\n",
    "\n",
    "input_df = df_test\n",
    "\n",
    "# Create a new DataFrame with the predicted probabilities for each choice\n",
    "result_df = pd.DataFrame(input_df.progress_apply(predict_choices, axis=1).tolist(), columns=['choice1', 'choice2', 'choice3', 'choice4', 'choice5', 'choice6'])\n",
    "\n",
    "# Concatenate the 'idx' column from the input DataFrame to the result DataFrame\n",
    "result_df = pd.concat([input_df['idx'], result_df], axis=1)"
   ]
  },
  {
   "cell_type": "code",
   "execution_count": null,
   "metadata": {},
   "outputs": [],
   "source": [
    "file_path = \"results/result-checkpoint-1198.csv\"  \n",
    "result_df.to_csv(file_path, index=False)  "
   ]
  },
  {
   "cell_type": "code",
   "execution_count": null,
   "metadata": {},
   "outputs": [],
   "source": [
    "result_df"
   ]
  }
 ],
 "metadata": {
  "kernelspec": {
   "display_name": "Python 3",
   "language": "python",
   "name": "python3"
  },
  "language_info": {
   "codemirror_mode": {
    "name": "ipython",
    "version": 3
   },
   "file_extension": ".py",
   "mimetype": "text/x-python",
   "name": "python",
   "nbconvert_exporter": "python",
   "pygments_lexer": "ipython3",
   "version": "3.8.5"
  }
 },
 "nbformat": 4,
 "nbformat_minor": 4
}
